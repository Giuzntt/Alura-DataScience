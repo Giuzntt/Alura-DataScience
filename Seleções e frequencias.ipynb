{
 "cells": [
  {
   "cell_type": "markdown",
   "metadata": {},
   "source": [
    "# Tirar a frequencia das selecões - Relatório de Análise 4"
   ]
  },
  {
   "cell_type": "code",
   "execution_count": 2,
   "metadata": {},
   "outputs": [],
   "source": [
    "import pandas as  pd"
   ]
  },
  {
   "cell_type": "code",
   "execution_count": 10,
   "metadata": {},
   "outputs": [
    {
     "data": {
      "text/plain": [
       "19532"
      ]
     },
     "execution_count": 10,
     "metadata": {},
     "output_type": "execute_result"
    }
   ],
   "source": [
    "dados = pd.read_csv('dados_residencial.csv', sep=';')\n",
    "dados.head(10)\n",
    "\n",
    "# Selecionar apenas os imoveis classificados com o tipo 'Apartamento', selecionandp um tipo especifico\n",
    "selecao  = dados['Tipo'] == \"Apartamento\"\n",
    "n1 = dados[selecao].shape[0] #Vendo o tamanho da célula\n",
    "n1 \n",
    "\n"
   ]
  },
  {
   "cell_type": "code",
   "execution_count": 13,
   "metadata": {},
   "outputs": [
    {
     "data": {
      "text/plain": [
       "1216"
      ]
     },
     "execution_count": 13,
     "metadata": {},
     "output_type": "execute_result"
    }
   ],
   "source": [
    "# aa os imoveis classificados com o tipo 'Casa', 'Casa Condominio' ou 'Casa de Vila'\n",
    "\n",
    "selecao = (dados[\"Tipo\"] == \"Casa\" )| (dados[\"Tipo\"] == \"Casa Condominio\") | (dados[\"Tipo\"] == \"Casa de Vila\")  # Quando temos mais de um termo colocamos parenteses\n",
    "n2 = dados[selecao].shape[0]\n",
    "n2\n"
   ]
  },
  {
   "cell_type": "code",
   "execution_count": 18,
   "metadata": {},
   "outputs": [
    {
     "data": {
      "text/plain": [
       "8719"
      ]
     },
     "execution_count": 18,
     "metadata": {},
     "output_type": "execute_result"
    }
   ],
   "source": [
    "# Seçecopme  os imoveis com área entre 60 e 100 metros quadrados, incluindo os limites\n",
    "# 60 <= Area <= 100\n",
    "selecao = (dados[\"Area\"] >= 60) & (dados[\"Area\"] <= 100)\n",
    "n3 = dados[selecao].shape[0]\n",
    "n3"
   ]
  },
  {
   "cell_type": "code",
   "execution_count": 20,
   "metadata": {},
   "outputs": [
    {
     "data": {
      "text/plain": [
       "41"
      ]
     },
     "execution_count": 20,
     "metadata": {},
     "output_type": "execute_result"
    }
   ],
   "source": [
    "#Selecione os imoveis que tenham pelo menos 4 quartos e aluguel menor que R$ 2000\n",
    "selecao = (dados['Quartos']>=4) & (dados['Valor']<2000)\n",
    "n4 = dados[selecao].shape[0]\n",
    "n4"
   ]
  },
  {
   "cell_type": "code",
   "execution_count": 22,
   "metadata": {},
   "outputs": [
    {
     "name": "stdout",
     "output_type": "stream",
     "text": [
      "Nº de imoveis apenas os imoveis classificados com o tipo 'Apartamento', selecionandp um tipo especifico ->  19532\n",
      "Nº de imoveis apenas os imoveis classificados com o tipo 'Casa', 'Casa Condominio' ou 'Casa de Vila'->  1216\n",
      "Nº de imoveis  os imoveis com área entre 60 e 100 metros quadrados, incluindo os limites->  8719\n",
      "Nº de imoveis que tenham pelo menos 4 quartos e aluguel menor que R$ 2000 ->  41\n"
     ]
    }
   ],
   "source": [
    "print( \"Nº de imoveis apenas os imoveis classificados com o tipo 'Apartamento', selecionandp um tipo especifico -> \", n1)\n",
    "print(\"Nº de imoveis apenas os imoveis classificados com o tipo 'Casa', 'Casa Condominio' ou 'Casa de Vila'-> \", n2)\n",
    "print(\"Nº de imoveis  os imoveis com área entre 60 e 100 metros quadrados, incluindo os limites-> \", n3)\n",
    "print(\"Nº de imoveis que tenham pelo menos 4 quartos e aluguel menor que R$ 2000 -> \", n4)\n"
   ]
  }
 ],
 "metadata": {
  "kernelspec": {
   "display_name": "Python 3.10.5 64-bit",
   "language": "python",
   "name": "python3"
  },
  "language_info": {
   "codemirror_mode": {
    "name": "ipython",
    "version": 3
   },
   "file_extension": ".py",
   "mimetype": "text/x-python",
   "name": "python",
   "nbconvert_exporter": "python",
   "pygments_lexer": "ipython3",
   "version": "3.10.5"
  },
  "orig_nbformat": 4,
  "vscode": {
   "interpreter": {
    "hash": "fb4569285eef3a3450cb62085a5b1e0da4bce0af555edc33dcf29baf3acc1368"
   }
  }
 },
 "nbformat": 4,
 "nbformat_minor": 2
}
